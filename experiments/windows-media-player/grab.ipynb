{
 "cells": [
  {
   "cell_type": "code",
   "execution_count": 2,
   "metadata": {},
   "outputs": [
    {
     "name": "stdout",
     "output_type": "stream",
     "text": [
      "<POINTER(IUIAutomationElement) ptr=0x1ba9f0803f0 at 1baa09cce40>\n",
      "metadata\n"
     ]
    }
   ],
   "source": [
    "import comtypes\n",
    "import comtypes.client\n",
    "UIAutomationCore = comtypes.client.GetModule(\"UIAutomationCore.dll\")\n",
    "IUIAutomation = comtypes.client.CreateObject(\"{ff48dba4-60ef-4201-aa87-54103eef594e}\", \n",
    "                                            interface=UIAutomationCore.IUIAutomation)\n",
    "ViewWalker = IUIAutomation.RawViewWalker\n",
    "\n",
    "desktop = IUIAutomation.GetRootElement()\n",
    "ViewWalker.getFirstChildElement(desktop)\n",
    "\n",
    "# https://github.com/microsoft/accessibility-insights-windows/issues/1122#issuecomment-834145895\n",
    "# Thanks yinkaisheng!\n",
    "def WalkTree(top, max_depth: int = 0xFFFFFFFF):\n",
    "    if max_depth <= 0:\n",
    "        return\n",
    "    child = ViewWalker.GetFirstChildElement(top)\n",
    "    childList = [child]\n",
    "    depth = 0\n",
    "    while depth >= 0:\n",
    "        lastItem = childList[-1]\n",
    "        if lastItem:\n",
    "            yield lastItem, depth + 1\n",
    "            child = ViewWalker.GetNextSiblingElement(lastItem)\n",
    "            childList[depth] = child\n",
    "            if depth + 1 < max_depth:\n",
    "                child = ViewWalker.GetFirstChildElement(lastItem)\n",
    "                if child:\n",
    "                    depth += 1\n",
    "                    childList.append(child)\n",
    "        else:\n",
    "            del childList[depth]\n",
    "            depth -= 1\n",
    "\n",
    "for x, depth in WalkTree(desktop, max_depth=1):\n",
    "    if x.CurrentClassName == \"WMPlayerApp\":\n",
    "        wmp = x\n",
    "\n",
    "assert wmp\n",
    "\n",
    "for ele, depth in WalkTree(wmp, max_depth=4):\n",
    "    if ele.CurrentName == \"metadata\":\n",
    "        break\n",
    "print(ele)\n",
    "print(ele.CurrentName)"
   ]
  },
  {
   "cell_type": "code",
   "execution_count": 3,
   "metadata": {},
   "outputs": [
    {
     "data": {
      "text/plain": [
       "<POINTER(IUnknown) ptr=0x1ba9f07dd70 at 1ba883f5840>"
      ]
     },
     "execution_count": 3,
     "metadata": {},
     "output_type": "execute_result"
    }
   ],
   "source": [
    "value_pattern = ele.GetCurrentPattern(UIAutomationCore.UIA_ValuePatternId)\n",
    "value_pattern"
   ]
  },
  {
   "cell_type": "code",
   "execution_count": 33,
   "metadata": {},
   "outputs": [
    {
     "name": "stdout",
     "output_type": "stream",
     "text": [
      "<POINTER(IUIAutomationValuePattern) ptr=0x1ba9f07dd70 at 1baa09cd4c0>\n",
      "Value: 新しいフォルダー (５)\n"
     ]
    }
   ],
   "source": [
    "# Import the IValuePattern interface definition from UIAutomationCore\n",
    "from comtypes.gen.UIAutomationClient import IUIAutomationValuePattern\n",
    "\n",
    "# Cast the IUnknown pointer to IValuePattern\n",
    "value_pattern_interface = value_pattern.QueryInterface(IUIAutomationValuePattern)\n",
    "print(value_pattern_interface)\n",
    "\n",
    "# Now you can use value_pattern_interface to get the value\n",
    "current_value = value_pattern_interface.CurrentValue\n",
    "print(f\"Value: {current_value}\")"
   ]
  },
  {
   "cell_type": "code",
   "execution_count": null,
   "metadata": {},
   "outputs": [
    {
     "name": "stdout",
     "output_type": "stream",
     "text": [
      "暁Records\n",
      "暁Records\n",
      "コマノエール -全力貢献中!!\n",
      "コマノエール -全力貢献中!!\n",
      "コマノエール -全力貢献中!!\n",
      "DARK NEXT-監視の扉-\n",
      "DARK NEXT-監視の扉-\n",
      "DARK NEXT-監視の扉-\n",
      "暁Records\n",
      "暁Records\n",
      "暁Records\n",
      "コマノエール -全力貢献中!!\n",
      "コマノエール -全力貢献中!!\n",
      "コマノエール -全力貢献中!!\n",
      "DARK NEXT-監視の扉-\n",
      "DARK NEXT-監視の扉-\n",
      "DARK NEXT-監視の扉-\n",
      "暁Records\n",
      "暁Records\n",
      "暁Records\n",
      "コマノエール -全力貢献中!!\n",
      "コマノエール -全力貢献中!!\n",
      "コマノエール -全力貢献中!!\n",
      "DARK NEXT-監視の扉-\n",
      "DARK NEXT-監視の扉-\n",
      "DARK NEXT-監視の扉-\n",
      "暁Records\n",
      "暁Records\n",
      "暁Records\n",
      "コマノエール -全力貢献中!!\n",
      "コマノエール -全力貢献中!!\n",
      "コマノエール -全力貢献中!!\n",
      "DARK NEXT-監視の扉-\n",
      "DARK NEXT-監視の扉-\n",
      "DARK NEXT-監視の扉-\n",
      "暁Records\n",
      "暁Records\n",
      "暁Records\n",
      "コマノエール -全力貢献中!!\n",
      "コマノエール -全力貢献中!!\n",
      "コマノエール -全力貢献中!!\n",
      "DARK NEXT-監視の扉-\n",
      "DARK NEXT-監視の扉-\n",
      "DARK NEXT-監視の扉-\n",
      "暁Records\n",
      "暁Records\n",
      "暁Records\n",
      "コマノエール -全力貢献中!!\n",
      "コマノエール -全力貢献中!!\n",
      "コマノエール -全力貢献中!!\n",
      "DARK NEXT-監視の扉-\n",
      "DARK NEXT-監視の扉-\n",
      "DARK NEXT-監視の扉-\n",
      "暁Records\n",
      "暁Records\n",
      "暁Records\n",
      "コマノエール -全力貢献中!!\n",
      "コマノエール -全力貢献中!!\n",
      "コマノエール -全力貢献中!!\n",
      "DARK NEXT-監視の扉-\n",
      "DARK NEXT-監視の扉-\n",
      "DARK NEXT-監視の扉-\n",
      "暁Records\n",
      "暁Records\n",
      "暁Records\n",
      "コマノエール -全力貢献中!!\n",
      "コマノエール -全力貢献中!!\n",
      "コマノエール -全力貢献中!!\n",
      "DARK NEXT-監視の扉-\n",
      "DARK NEXT-監視の扉-\n",
      "DARK NEXT-監視の扉-\n",
      "暁Records\n",
      "暁Records\n",
      "暁Records\n",
      "コマノエール -全力貢献中!!\n",
      "コマノエール -全力貢献中!!\n",
      "コマノエール -全力貢献中!!\n",
      "DARK NEXT-監視の扉-\n",
      "DARK NEXT-監視の扉-\n",
      "DARK NEXT-監視の扉-\n",
      "暁Records\n",
      "暁Records\n",
      "暁Records\n",
      "コマノエール -全力貢献中!!\n",
      "コマノエール -全力貢献中!!\n",
      "コマノエール -全力貢献中!!\n",
      "DARK NEXT-監視の扉-\n",
      "DARK NEXT-監視の扉-\n",
      "DARK NEXT-監視の扉-\n",
      "暁Records\n",
      "暁Records\n",
      "暁Records\n",
      "コマノエール -全力貢献中!!\n",
      "コマノエール -全力貢献中!!\n",
      "コマノエール -全力貢献中!!\n",
      "DARK NEXT-監視の扉-\n",
      "DARK NEXT-監視の扉-\n",
      "DARK NEXT-監視の扉-\n",
      "暁Records\n"
     ]
    },
    {
     "ename": "KeyboardInterrupt",
     "evalue": "",
     "output_type": "error",
     "traceback": [
      "\u001b[1;31m---------------------------------------------------------------------------\u001b[0m\n",
      "\u001b[1;31mKeyboardInterrupt\u001b[0m                         Traceback (most recent call last)\n",
      "\u001b[1;32md:\\Repos\\Koolaine\\experiments\\axe\\z.ipynb Cell 6\u001b[0m line \u001b[0;36m4\n",
      "\u001b[0;32m      <a href='vscode-notebook-cell:/d%3A/Repos/Koolaine/experiments/axe/z.ipynb#X14sZmlsZQ%3D%3D?line=1'>2</a>\u001b[0m \u001b[39mwhile\u001b[39;00m \u001b[39mTrue\u001b[39;00m:\n",
      "\u001b[0;32m      <a href='vscode-notebook-cell:/d%3A/Repos/Koolaine/experiments/axe/z.ipynb#X14sZmlsZQ%3D%3D?line=2'>3</a>\u001b[0m     \u001b[39mprint\u001b[39m(value_pattern_interface\u001b[39m.\u001b[39mCurrentValue)\n",
      "\u001b[1;32m----> <a href='vscode-notebook-cell:/d%3A/Repos/Koolaine/experiments/axe/z.ipynb#X14sZmlsZQ%3D%3D?line=3'>4</a>\u001b[0m     sleep(\u001b[39m1\u001b[39;49m)\n",
      "\n",
      "\u001b[1;31mKeyboardInterrupt\u001b[0m: "
     ]
    }
   ],
   "source": [
    "from time import sleep\n",
    "while True:\n",
    "    print(value_pattern_interface.CurrentValue)\n",
    "    sleep(1)"
   ]
  }
 ],
 "metadata": {
  "kernelspec": {
   "display_name": "koolaine",
   "language": "python",
   "name": "python3"
  },
  "language_info": {
   "codemirror_mode": {
    "name": "ipython",
    "version": 3
   },
   "file_extension": ".py",
   "mimetype": "text/x-python",
   "name": "python",
   "nbconvert_exporter": "python",
   "pygments_lexer": "ipython3",
   "version": "3.10.13"
  },
  "orig_nbformat": 4
 },
 "nbformat": 4,
 "nbformat_minor": 2
}
