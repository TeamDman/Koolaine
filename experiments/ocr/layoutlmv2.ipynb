{
 "cells": [
  {
   "cell_type": "code",
   "execution_count": 8,
   "metadata": {},
   "outputs": [],
   "source": [
    "import torch\n",
    "assert torch.cuda.is_available()"
   ]
  },
  {
   "cell_type": "code",
   "execution_count": 1,
   "metadata": {},
   "outputs": [
    {
     "name": "stderr",
     "output_type": "stream",
     "text": [
      "c:\\Users\\TeamD\\.conda\\envs\\sfm\\lib\\site-packages\\tqdm\\auto.py:21: TqdmWarning: IProgress not found. Please update jupyter and ipywidgets. See https://ipywidgets.readthedocs.io/en/stable/user_install.html\n",
      "  from .autonotebook import tqdm as notebook_tqdm\n"
     ]
    },
    {
     "name": "stdout",
     "output_type": "stream",
     "text": [
      "dict_keys(['input_ids', 'token_type_ids', 'attention_mask', 'bbox', 'image'])\n"
     ]
    }
   ],
   "source": [
    "from transformers import LayoutLMv2Processor\n",
    "from PIL import Image\n",
    "\n",
    "processor = LayoutLMv2Processor.from_pretrained(\"microsoft/layoutlmv2-base-uncased\")\n",
    "\n",
    "image = Image.open(\n",
    "    \"Discord_ar3EHEZQO2.png\"\n",
    ").convert(\"RGB\")\n",
    "encoding = processor(\n",
    "    image, return_tensors=\"pt\"\n",
    ")  # you can also add all tokenizer parameters here such as padding, truncation\n",
    "print(encoding.keys())\n",
    "# dict_keys(['input_ids', 'token_type_ids', 'attention_mask', 'bbox', 'image'])"
   ]
  },
  {
   "cell_type": "code",
   "execution_count": 2,
   "metadata": {},
   "outputs": [
    {
     "data": {
      "text/plain": [
       "tensor([[[   0,    0,    0,    0],\n",
       "         [  16,   33,   36,   42],\n",
       "         [  61,   29,  180,   46],\n",
       "         [ 192,   29,  454,   46],\n",
       "         [  69,   84,  135,  114],\n",
       "         [ 168,   84,  377,  116],\n",
       "         [  69,  156,  135,  186],\n",
       "         [ 168,  156,  340,  182],\n",
       "         [  69,  228,  135,  258],\n",
       "         [ 172,  237,  368,  254],\n",
       "         [ 172,  237,  368,  254],\n",
       "         [  69,  300,  135,  330],\n",
       "         [ 172,  300,  528,  332],\n",
       "         [ 172,  300,  528,  332],\n",
       "         [ 172,  300,  528,  332],\n",
       "         [ 172,  300,  528,  332],\n",
       "         [  69,  370,  135,  404],\n",
       "         [ 168,  372,  573,  398],\n",
       "         [ 168,  372,  573,  398],\n",
       "         [ 168,  372,  573,  398],\n",
       "         [  69,  444,  135,  474],\n",
       "         [ 168,  453,  364,  470],\n",
       "         [  69,  516,  135,  546],\n",
       "         [ 168,  523,  540,  548],\n",
       "         [ 168,  523,  540,  548],\n",
       "         [ 168,  523,  540,  548],\n",
       "         [  69,  588,  135,  618],\n",
       "         [  69,  588,  135,  618],\n",
       "         [ 172,  588,  446,  614],\n",
       "         [ 172,  588,  446,  614],\n",
       "         [  69,  661,  135,  690],\n",
       "         [ 172,  661,  336,  686],\n",
       "         [  69,  733,  135,  762],\n",
       "         [ 172,  735,  278,  764],\n",
       "         [ 172,  735,  278,  764],\n",
       "         [  69,  805,  135,  834],\n",
       "         [ 172,  805,  434,  836],\n",
       "         [ 172,  805,  434,  836],\n",
       "         [ 172,  805,  434,  836],\n",
       "         [  69,  877,  135,  906],\n",
       "         [ 172,  877,  561,  908],\n",
       "         [ 172,  877,  561,  908],\n",
       "         [ 172,  877,  561,  908],\n",
       "         [  69,  949,  135,  978],\n",
       "         [ 168,  949,  393,  974],\n",
       "         [ 168,  949,  393,  974],\n",
       "         [1000, 1000, 1000, 1000]]])"
      ]
     },
     "execution_count": 2,
     "metadata": {},
     "output_type": "execute_result"
    }
   ],
   "source": [
    "encoding[\"bbox\"]"
   ]
  },
  {
   "cell_type": "code",
   "execution_count": null,
   "metadata": {},
   "outputs": [],
   "source": []
  }
 ],
 "metadata": {
  "kernelspec": {
   "display_name": "koolaine",
   "language": "python",
   "name": "python3"
  },
  "language_info": {
   "codemirror_mode": {
    "name": "ipython",
    "version": 3
   },
   "file_extension": ".py",
   "mimetype": "text/x-python",
   "name": "python",
   "nbconvert_exporter": "python",
   "pygments_lexer": "ipython3",
   "version": "3.10.12"
  },
  "orig_nbformat": 4
 },
 "nbformat": 4,
 "nbformat_minor": 2
}
