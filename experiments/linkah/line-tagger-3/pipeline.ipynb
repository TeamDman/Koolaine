{
 "cells": [
  {
   "cell_type": "code",
   "execution_count": 1,
   "metadata": {},
   "outputs": [],
   "source": [
    "%load_ext autoreload\n",
    "%autoreload 2"
   ]
  },
  {
   "cell_type": "code",
   "execution_count": 70,
   "metadata": {},
   "outputs": [],
   "source": [
    "def process_list_with_progress_bar(items, outdir, func, callback, error_callback):\n",
    "    from tqdm import tqdm\n",
    "    from pathlib import Path\n",
    "    outdir = Path(outdir)\n",
    "    outdir.mkdir(parents=True, exist_ok=True)\n",
    "    with tqdm(total=len(items)) as pbar:\n",
    "        for x in items:\n",
    "            i, item = x\n",
    "            # pbar.set_description(f\"Processing {str(item)}\")\n",
    "            try:\n",
    "                result = func(i,item)\n",
    "                callback(i,item,result, outdir)\n",
    "            except Exception as e:\n",
    "                error_callback(i,item,e, outdir)\n",
    "            pbar.update(1)"
   ]
  },
  {
   "cell_type": "code",
   "execution_count": 14,
   "metadata": {},
   "outputs": [],
   "source": [
    "def dump(i, item, result, outdir):\n",
    "    import json\n",
    "    data = {\n",
    "        \"item\": item,\n",
    "        \"result\": result,\n",
    "    }\n",
    "    with open(outdir / f\"{i}.json\", \"w\", encoding=\"utf-8\") as f:\n",
    "        json.dump(data, f, ensure_ascii=False, indent=4)"
   ]
  },
  {
   "cell_type": "code",
   "execution_count": 66,
   "metadata": {},
   "outputs": [],
   "source": [
    "def dump_err(i, item, e, outdir):\n",
    "    import json\n",
    "    data = {\n",
    "        \"item\": item,\n",
    "        \"error\": {\n",
    "            \"type\": str(type(e)),\n",
    "            \"args\": [str(arg) for arg in e.args],\n",
    "            \"message\": str(e)\n",
    "        },\n",
    "    }\n",
    "    with open(outdir / f\"{i}.error.json\", \"w\", encoding=\"utf-8\") as f:\n",
    "        json.dump(data, f, ensure_ascii=False, indent=4)"
   ]
  },
  {
   "cell_type": "code",
   "execution_count": 53,
   "metadata": {},
   "outputs": [
    {
     "name": "stderr",
     "output_type": "stream",
     "text": [
      "100%|██████████| 129/129 [00:00<00:00, 2434.01it/s]\n"
     ]
    }
   ],
   "source": [
    "def input_phase():\n",
    "    def process_item(i,item):\n",
    "        url,notes = item.split(\",\",1)\n",
    "        notes = notes.strip()\n",
    "        if notes == url or notes == \"\":\n",
    "            notes = \"no notes provided\"\n",
    "        return url,notes\n",
    "    process_list_with_progress_bar(\n",
    "        items=enumerate(open(\"input.txt\",\"r\",encoding=\"utf-8\").readlines()),\n",
    "        outdir=\"outputs/1-read\",\n",
    "        func=process_item,\n",
    "        callback=dump,\n",
    "        error_callback=dump_err,\n",
    "    )\n",
    "input_phase()"
   ]
  },
  {
   "cell_type": "code",
   "execution_count": 82,
   "metadata": {},
   "outputs": [],
   "source": [
    "def process_indir_with_progress_bar(indir, outdir, func, callback, error_callback):\n",
    "    from pathlib import Path\n",
    "    indir = Path(indir)\n",
    "    assert indir.exists()\n",
    "    items = list(indir.glob(\"*\"))\n",
    "    items = [item for item in items if not item.name.endswith(\".error.json\")]\n",
    "    items = [(int(item.name.split(\".\",1)[0]),item) for item in items]\n",
    "    items = sorted(items, key=lambda x: x[0])\n",
    "    import json\n",
    "    items = [(i,json.load(open(item,\"r\",encoding=\"utf-8\"))[\"result\"]) for i,item in items]\n",
    "\n",
    "    outdir = Path(outdir)\n",
    "    if outdir.exists():\n",
    "        done = [x.name for x in outdir.glob(\"*.json\")]\n",
    "        done_ids = [int(x.split(\".\",1)[0]) for x in done]\n",
    "        items = [(i,item) for i,item in items if not i in done_ids]\n",
    "        print(f\"Skipping {len(done)} items, processing {len(items)} items\")\n",
    "    return process_list_with_progress_bar(items, outdir, func, callback, error_callback)"
   ]
  },
  {
   "cell_type": "code",
   "execution_count": 80,
   "metadata": {},
   "outputs": [
    {
     "name": "stdout",
     "output_type": "stream",
     "text": [
      "Skipping 60 items, processing 69 items\n"
     ]
    },
    {
     "name": "stderr",
     "output_type": "stream",
     "text": [
      "100%|██████████| 69/69 [02:48<00:00,  2.44s/it]\n"
     ]
    }
   ],
   "source": [
    "def fetch_phase():\n",
    "    def process_item(i,item):\n",
    "        url, notes = item\n",
    "        import requests\n",
    "        res = requests.get(url)\n",
    "        html = res.text\n",
    "        from time import sleep\n",
    "        sleep(0.1)\n",
    "\n",
    "        if res.status_code != 200:\n",
    "            raise Exception(f\"HTTP status code {res.status_code}\")\n",
    "        return (url, notes, html)\n",
    "    \n",
    "    process_indir_with_progress_bar(\n",
    "        indir=\"outputs/1-read/\",\n",
    "        outdir=\"outputs/2-fetch/\",\n",
    "        func=process_item,\n",
    "        callback=dump,\n",
    "        error_callback=dump_err,\n",
    "    )\n",
    "fetch_phase()"
   ]
  },
  {
   "cell_type": "code",
   "execution_count": 92,
   "metadata": {},
   "outputs": [
    {
     "name": "stderr",
     "output_type": "stream",
     "text": [
      "100%|██████████| 112/112 [00:06<00:00, 17.90it/s]\n"
     ]
    }
   ],
   "source": [
    "def innertext_phase():\n",
    "    def process_item(i, item):\n",
    "        url, notes, page = item\n",
    "        from bs4 import BeautifulSoup\n",
    "        soup = BeautifulSoup(page, 'html.parser')\n",
    "        \n",
    "        # Remove undesired tags\n",
    "        for tag in soup.find_all(class_=['header', 'footer', 'sidebar']):\n",
    "            tag.decompose()\n",
    "\n",
    "        # Get title\n",
    "        title = soup.title.string if soup.title else \"\"\n",
    "        \n",
    "        # Get text from <main> tag\n",
    "        main = soup.find('main')\n",
    "        if main:\n",
    "            main_text = main.get_text()\n",
    "        else:\n",
    "            main_text = soup.get_text()\n",
    "        \n",
    "        # Consolidate texts\n",
    "        text = f\"Title: {title}\\n\\nMain: {main_text}\"\n",
    "\n",
    "        assert len(text) > 100, f\"Text too short ({len(text)}): {text}\"\n",
    "        \n",
    "        return (url, notes, text)\n",
    "    \n",
    "    process_indir_with_progress_bar(\n",
    "        indir=\"outputs/2-fetch/\",\n",
    "        outdir=\"outputs/3-innertext/\",\n",
    "        func=process_item,\n",
    "        callback=dump,\n",
    "        error_callback=dump_err,\n",
    "    )\n",
    "innertext_phase()"
   ]
  },
  {
   "cell_type": "code",
   "execution_count": null,
   "metadata": {},
   "outputs": [
    {
     "data": {
      "text/plain": [
       "'In its simplest form, an experiment aims at predicting the outcome by introducing a change of the preconditions, which is represented by one or more independent variables, also referred to as \"input variables\" or \"predictor variables.\" Main concerns in experimental design include the establishment of validity, reliability, and replicability. Related concerns include achieving appropriate levels of statistical power and sensitivity. Correctly designed experiments advance knowledge in the natural and social sciences and engineering, with design of experiments methodology recognised as a key tool in the successful implementation of a Quality by Design (QbD) framework.'"
      ]
     },
     "metadata": {},
     "output_type": "display_data"
    }
   ],
   "source": [
    "def summarize_text(text, num_sentences=5):\n",
    "    from sumy.parsers.plaintext import PlaintextParser\n",
    "    from sumy.nlp.tokenizers import Tokenizer\n",
    "    from sumy.summarizers.lsa import LsaSummarizer\n",
    "    parser = PlaintextParser.from_string(text, Tokenizer(\"english\"))\n",
    "    summarizer = LsaSummarizer()\n",
    "    summary = summarizer(parser.document, num_sentences)\n",
    "    return \" \".join(str(sentence) for sentence in summary)\n",
    "summarize_text(\"\"\"The design of experiments (DOE or DOX), also known as experiment design or experimental design, is the design of any task that aims to describe and explain the variation of information under conditions that are hypothesized to reflect the variation. The term is generally associated with experiments in which the design introduces conditions that directly affect the variation, but may also refer to the design of quasi-experiments, in which natural conditions that influence the variation are selected for observation.\n",
    "\n",
    "In its simplest form, an experiment aims at predicting the outcome by introducing a change of the preconditions, which is represented by one or more independent variables, also referred to as \"input variables\" or \"predictor variables.\" The change in one or more independent variables is generally hypothesized to result in a change in one or more dependent variables, also referred to as \"output variables\" or \"response variables.\" The experimental design may also identify control variables that must be held constant to prevent external factors from affecting the results. Experimental design involves not only the selection of suitable independent, dependent, and control variables, but planning the delivery of the experiment under statistically optimal conditions given the constraints of available resources. There are multiple approaches for determining the set of design points (unique combinations of the settings of the independent variables) to be used in the experiment.\n",
    "\n",
    "Main concerns in experimental design include the establishment of validity, reliability, and replicability. For example, these concerns can be partially addressed by carefully choosing the independent variable, reducing the risk of measurement error, and ensuring that the documentation of the method is sufficiently detailed. Related concerns include achieving appropriate levels of statistical power and sensitivity.\n",
    "\n",
    "Correctly designed experiments advance knowledge in the natural and social sciences and engineering, with design of experiments methodology recognised as a key tool in the successful implementation of a Quality by Design (QbD) framework.[1] Other applications include marketing and policy making. The study of the design of experiments is an important topic in metascience.\"\"\"\n",
    "               ,num_sentences=4)"
   ]
  },
  {
   "cell_type": "code",
   "execution_count": null,
   "metadata": {},
   "outputs": [
    {
     "name": "stderr",
     "output_type": "stream",
     "text": [
      " 90%|█████████ | 101/112 [00:48<00:10,  1.00it/s]c:\\Users\\TeamD\\.conda\\envs\\koolaine\\lib\\site-packages\\sumy\\summarizers\\lsa.py:76: UserWarning: Number of words (217) is lower than number of sentences (499). LSA algorithm may not work properly.\n",
      "  warn(message % (words_count, sentences_count))\n",
      "100%|██████████| 112/112 [00:49<00:00,  2.25it/s]\n"
     ]
    }
   ],
   "source": [
    "def summarize_phase():\n",
    "    def process_item(i,item):\n",
    "        url,notes,text = item\n",
    "        summarized_text = summarize_text(text, num_sentences=5)\n",
    "        return (url, notes, summarized_text)\n",
    "    \n",
    "    process_indir_with_progress_bar(\n",
    "        indir=\"outputs/3-innertext/\",\n",
    "        outdir=\"outputs/4-summary/\",\n",
    "        func=process_item,\n",
    "        callback=dump,\n",
    "        error_callback=dump_err,\n",
    "    )\n",
    "summarize_phase()"
   ]
  },
  {
   "cell_type": "code",
   "execution_count": 47,
   "metadata": {},
   "outputs": [
    {
     "name": "stderr",
     "output_type": "stream",
     "text": [
      "100%|██████████| 127/127 [01:52<00:00,  1.13it/s]\n"
     ]
    }
   ],
   "source": [
    "def tagging_phase():\n",
    "    def process_item(i,item):\n",
    "        url, notes, summary=item\n",
    "        import requests\n",
    "        json_body = {\n",
    "            \"prompt\": f\"\"\"\n",
    "### Instruction:\n",
    "Provide a list of hashtags for the following.\n",
    "Output should be parse-able with python's ast.literal_eval() and nothing else.\n",
    "\n",
    "{summary}\n",
    "\n",
    "### Response:\n",
    "['\n",
    "            \"\"\".strip(),\n",
    "            \"max_new_tokens\": 50\n",
    "        }\n",
    "\n",
    "        # Forward request\n",
    "        response = requests.post(\n",
    "            \"http://127.0.0.1:5000/api/v1/generate\",\n",
    "            headers={\"Content-Type\": \"application/json\"},\n",
    "            json=json_body\n",
    "        )\n",
    "        response = response.json()[\"results\"][0][\"text\"]\n",
    "        return (url, notes, response)\n",
    "    \n",
    "    process_indir_with_progress_bar(\n",
    "        indir=\"outputs/4-summary/\",\n",
    "        outdir=\"outputs/5-tagging/\",\n",
    "        func=process_item,\n",
    "        callback=dump,\n",
    "        error_callback=dump_err,\n",
    "    )\n",
    "innertext_phase()"
   ]
  }
 ],
 "metadata": {
  "kernelspec": {
   "display_name": "koolaine",
   "language": "python",
   "name": "python3"
  },
  "language_info": {
   "codemirror_mode": {
    "name": "ipython",
    "version": 3
   },
   "file_extension": ".py",
   "mimetype": "text/x-python",
   "name": "python",
   "nbconvert_exporter": "python",
   "pygments_lexer": "ipython3",
   "version": "3.10.13"
  },
  "orig_nbformat": 4
 },
 "nbformat": 4,
 "nbformat_minor": 2
}
