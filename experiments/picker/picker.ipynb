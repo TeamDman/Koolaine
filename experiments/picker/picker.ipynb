{
 "cells": [
  {
   "cell_type": "markdown",
   "metadata": {},
   "source": [
    "# Guh"
   ]
  },
  {
   "cell_type": "code",
   "execution_count": 24,
   "metadata": {},
   "outputs": [
    {
     "name": "stdout",
     "output_type": "stream",
     "text": [
      "684  337\n"
     ]
    }
   ],
   "source": [
    "from winsound import Beep\n",
    "import pyautogui\n",
    "import threading\n",
    "from time import sleep\n",
    "threading.Thread(target=Beep, args=(150, 1000)).start()\n",
    "threading.Thread(target=pyautogui.alert, args=(\"Click the element.\",)).start()\n",
    "# Beep(150, 1000)\n",
    "sleep(0.07)\n",
    "# release ctrl, alt, shift\n",
    "pyautogui.keyUp('ctrl')\n",
    "pyautogui.keyUp('alt')\n",
    "pyautogui.keyUp('shift')\n",
    "pyautogui.hotkey('alt', 'printscreen')\n",
    "# wait for mouse click\n",
    "# ???\n",
    "# get clipboard contents\n",
    "import pyperclip\n",
    "data = pyperclip.paste()\n",
    "x,y = data.split(\"\\n\")[-1].split(\",\")\n",
    "print(x,y)\n"
   ]
  },
  {
   "cell_type": "code",
   "execution_count": 27,
   "metadata": {},
   "outputs": [
    {
     "name": "stdout",
     "output_type": "stream",
     "text": [
      "Note: you may need to restart the kernel to use updated packages.\n"
     ]
    }
   ],
   "source": [
    "%pip install -q pynput"
   ]
  },
  {
   "cell_type": "code",
   "execution_count": 28,
   "metadata": {},
   "outputs": [
    {
     "name": "stdout",
     "output_type": "stream",
     "text": [
      "Mouse clicked at (725, 369) with button Button.left\n",
      "Mouse clicked at (751, 347) with button Button.left\n",
      "Mouse clicked at (877, 333) with button Button.left\n",
      "Mouse clicked at (894, 322) with button Button.left\n",
      "Mouse clicked at (894, 322) with button Button.left\n",
      "Mouse clicked at (894, 322) with button Button.left\n",
      "Mouse clicked at (894, 322) with button Button.left\n",
      "Mouse clicked at (894, 322) with button Button.left\n",
      "Mouse clicked at (367, 184) with button Button.left\n",
      "Mouse clicked at (-1039, 940) with button Button.left\n"
     ]
    }
   ],
   "source": [
    "from pynput import mouse\n",
    "\n",
    "def on_click(x, y, button, pressed):\n",
    "    if pressed:\n",
    "        print(f\"Mouse clicked at ({x}, {y}) with button {button}\")\n",
    "\n",
    "# Listen to mouse events\n",
    "with mouse.Listener(on_click=on_click) as listener:\n",
    "    listener.join()\n"
   ]
  },
  {
   "cell_type": "code",
   "execution_count": 3,
   "metadata": {},
   "outputs": [
    {
     "name": "stdout",
     "output_type": "stream",
     "text": [
      "Clicked at (344, 193)\n"
     ]
    }
   ],
   "source": [
    "class ClickListener:\n",
    "    def __init__(self):\n",
    "        import threading\n",
    "        self.event = threading.Event()\n",
    "        self.x, self.y = None, None\n",
    "\n",
    "    def on_click(self, x, y, button, pressed):\n",
    "        if pressed:\n",
    "            self.x, self.y = x, y\n",
    "            self.event.set()\n",
    "\n",
    "    def waitForClick(self):\n",
    "        from pynput import mouse\n",
    "        with mouse.Listener(on_click=self.on_click) as listener:\n",
    "            self.event.wait()  # Block until clicked\n",
    "            listener.stop()  # Stop the listener\n",
    "            \n",
    "        return self.x, self.y\n",
    "\n",
    "# Example usage\n",
    "click_listener = ClickListener()\n",
    "x, y = click_listener.waitForClick()\n",
    "print(f\"Clicked at ({x}, {y})\")\n"
   ]
  },
  {
   "cell_type": "markdown",
   "metadata": {},
   "source": [
    "# Real shit"
   ]
  },
  {
   "cell_type": "code",
   "execution_count": 7,
   "metadata": {},
   "outputs": [
    {
     "name": "stdout",
     "output_type": "stream",
     "text": [
      "Note: you may need to restart the kernel to use updated packages.\n"
     ]
    },
    {
     "name": "stderr",
     "output_type": "stream",
     "text": [
      "WARNING: Ignoring invalid distribution -illow (c:\\users\\teamd\\.conda\\envs\\koolaine\\lib\\site-packages)\n",
      "WARNING: Ignoring invalid distribution -illow (c:\\users\\teamd\\.conda\\envs\\koolaine\\lib\\site-packages)\n"
     ]
    }
   ],
   "source": [
    "%pip install -q pyautogui pynput"
   ]
  },
  {
   "cell_type": "code",
   "execution_count": 9,
   "metadata": {},
   "outputs": [
    {
     "name": "stdout",
     "output_type": "stream",
     "text": [
      "Clicked at (858, 265)\n"
     ]
    }
   ],
   "source": [
    "from winsound import Beep\n",
    "import pyautogui\n",
    "import threading\n",
    "from time import sleep\n",
    "\n",
    "# Function to play a beep sound\n",
    "def play_beep():\n",
    "    Beep(150, 1000)\n",
    "\n",
    "# Start the beep without blocking\n",
    "threading.Thread(target=play_beep).start()\n",
    "\n",
    "# Release ctrl, alt, shift keys\n",
    "pyautogui.keyUp('ctrl')\n",
    "pyautogui.keyUp('alt')\n",
    "pyautogui.keyUp('shift')\n",
    "\n",
    "# Capture the screen using Alt+PrintScreen\n",
    "pyautogui.hotkey('alt', 'printscreen')\n",
    "\n",
    "# Wait for a mouse click\n",
    "class ClickListener:\n",
    "    def __init__(self):\n",
    "        import threading\n",
    "        self.event = threading.Event()\n",
    "        self.x, self.y = None, None\n",
    "\n",
    "    def on_click(self, x, y, button, pressed):\n",
    "        if pressed:\n",
    "            self.x, self.y = x, y\n",
    "            self.event.set()\n",
    "\n",
    "    def waitForClick(self):\n",
    "        from pynput import mouse\n",
    "        with mouse.Listener(on_click=self.on_click) as listener:\n",
    "            self.event.wait()  # Block until clicked\n",
    "            listener.stop()  # Stop the listener\n",
    "            \n",
    "        return self.x, self.y\n",
    "\n",
    "click_listener = ClickListener()\n",
    "x, y = click_listener.waitForClick()\n",
    "print(f\"Clicked at ({x}, {y})\")\n",
    "\n",
    "# Get the element at the mouse click location"
   ]
  },
  {
   "cell_type": "code",
   "execution_count": 26,
   "metadata": {},
   "outputs": [
    {
     "name": "stderr",
     "output_type": "stream",
     "text": [
      "0it [00:00, ?it/s]"
     ]
    },
    {
     "name": "stderr",
     "output_type": "stream",
     "text": [
      "53293it [02:06, 421.89it/s] "
     ]
    },
    {
     "name": "stdout",
     "output_type": "stream",
     "text": [
      "Element found: Windows Media Player, WMPlayerApp, -1249, 51, -200, 834\n",
      "Element found: Windows Media Player, WMPAppHost, -1241, 82, -208, 826\n",
      "Element found: , , -1241, 57, -208, 826\n",
      "Element found: , , -1241, 758, -208, 826\n",
      "Element found: , , -1241, 758, -208, 826\n",
      "Element found: svMarquee, , -1237, 758, -932, 826\n",
      "Element found: metadata, , -1188, 785, -967, 800\n",
      "Element found: Windows Media Player, WMPlayerApp, -1249, 51, -200, 834\n",
      "Element found: Windows Media Player, WMPAppHost, -1241, 82, -208, 826\n",
      "Element found: , , -1241, 57, -208, 826\n",
      "Element found: , , -1241, 758, -208, 826\n",
      "Element found: , , -1241, 758, -208, 826\n",
      "Element found: svMarquee, , -1237, 758, -932, 826\n",
      "Element found: metadata, , -1188, 785, -967, 800\n",
      "Element found: Program Manager, Progman, -2048, -77, 3840, 1080\n",
      "Element found: , SHELLDLL_DefView, -2048, -77, 3840, 1080\n",
      "Element found: Desktop, SysListView32, -2048, -77, 3840, 1080\n"
     ]
    },
    {
     "name": "stderr",
     "output_type": "stream",
     "text": [
      "\n"
     ]
    }
   ],
   "source": [
    "import comtypes\n",
    "import comtypes.client\n",
    "UIAutomationCore = comtypes.client.GetModule(\"UIAutomationCore.dll\")\n",
    "IUIAutomation = comtypes.client.CreateObject(\"{ff48dba4-60ef-4201-aa87-54103eef594e}\", \n",
    "                                            interface=UIAutomationCore.IUIAutomation)\n",
    "ViewWalker = IUIAutomation.RawViewWalker\n",
    "\n",
    "desktop = IUIAutomation.GetRootElement()\n",
    "ViewWalker.getFirstChildElement(desktop)\n",
    "\n",
    "def WalkTree(top, max_depth: int = 0xFFFFFFFF):\n",
    "    if max_depth <= 0:\n",
    "        return\n",
    "    child = ViewWalker.GetFirstChildElement(top)\n",
    "    childList = [child]\n",
    "    depth = 0\n",
    "    from tqdm import tqdm\n",
    "    with tqdm() as pbar:\n",
    "        while depth >= 0:\n",
    "            pbar.update(1)\n",
    "            lastItem = childList[-1]\n",
    "            if lastItem:\n",
    "                yield lastItem, depth + 1\n",
    "                child = ViewWalker.GetNextSiblingElement(lastItem)\n",
    "                childList[depth] = child\n",
    "                if depth + 1 < max_depth:\n",
    "                    child = ViewWalker.GetFirstChildElement(lastItem)\n",
    "                    if child:\n",
    "                        depth += 1\n",
    "                        childList.append(child)\n",
    "            else:\n",
    "                del childList[depth]\n",
    "                depth -= 1\n",
    "\n",
    "def FindElementAt(x, y, root, max_depth=0xFFFFFFFF):\n",
    "    found = []\n",
    "    for element, _ in WalkTree(root, max_depth=max_depth):\n",
    "        rect = element.CurrentBoundingRectangle\n",
    "        l, t, r, b = rect.left, rect.top, rect.right, rect.bottom\n",
    "        if l <= x <= r and t <= y <= b:\n",
    "            found.append(element)\n",
    "    return found\n",
    "\n",
    "# Example usage\n",
    "target_x, target_y = -1174, 792  # Replace with the coordinates you're interested in\n",
    "found = FindElementAt(target_x, target_y, desktop)\n",
    "if len(found) == 0:\n",
    "    print(\"No element found at the given coordinates.\")\n",
    "else:\n",
    "    for elem in found:\n",
    "        rect = elem.CurrentBoundingRectangle\n",
    "        l, t, r, b = rect.left, rect.top, rect.right, rect.bottom\n",
    "        print(f\"Element found: {elem.CurrentName}, {elem.CurrentClassName}, {l}, {t}, {r}, {b}\")\n"
   ]
  },
  {
   "cell_type": "code",
   "execution_count": 23,
   "metadata": {},
   "outputs": [
    {
     "data": {
      "text/plain": [
       "62"
      ]
     },
     "execution_count": 23,
     "metadata": {},
     "output_type": "execute_result"
    }
   ],
   "source": [
    "len(found)"
   ]
  },
  {
   "cell_type": "code",
   "execution_count": null,
   "metadata": {},
   "outputs": [],
   "source": [
    "rtn = []\n",
    "for elem in found:\n",
    "    rect = elem.CurrentBoundingRectangle\n",
    "    rtn.append((elem, rect.left, rect.top, rect.right, rect.bottom))\n",
    "rtn"
   ]
  },
  {
   "cell_type": "code",
   "execution_count": 19,
   "metadata": {},
   "outputs": [
    {
     "name": "stderr",
     "output_type": "stream",
     "text": [
      "Depth: 0, 2268 <= 500 <= 3252 and 46 <= 500 <= 977: : 20424it [00:16, 1207.89it/s]\n"
     ]
    },
    {
     "ename": "KeyboardInterrupt",
     "evalue": "",
     "output_type": "error",
     "traceback": [
      "\u001b[1;31m---------------------------------------------------------------------------\u001b[0m",
      "\u001b[1;31mKeyboardInterrupt\u001b[0m                         Traceback (most recent call last)",
      "\u001b[1;32md:\\Repos\\Koolaine\\experiments\\picker\\picker.ipynb Cell 10\u001b[0m line \u001b[0;36m4\n\u001b[0;32m     <a href='vscode-notebook-cell:/d%3A/Repos/Koolaine/experiments/picker/picker.ipynb#X12sZmlsZQ%3D%3D?line=42'>43</a>\u001b[0m \u001b[39m# Example usage\u001b[39;00m\n\u001b[0;32m     <a href='vscode-notebook-cell:/d%3A/Repos/Koolaine/experiments/picker/picker.ipynb#X12sZmlsZQ%3D%3D?line=43'>44</a>\u001b[0m target_x, target_y \u001b[39m=\u001b[39m \u001b[39m500\u001b[39m, \u001b[39m500\u001b[39m  \u001b[39m# Replace with the coordinates you're interested in\u001b[39;00m\n\u001b[1;32m---> <a href='vscode-notebook-cell:/d%3A/Repos/Koolaine/experiments/picker/picker.ipynb#X12sZmlsZQ%3D%3D?line=44'>45</a>\u001b[0m element_at_xy \u001b[39m=\u001b[39m FindElementAt(target_x, target_y, desktop)\n\u001b[0;32m     <a href='vscode-notebook-cell:/d%3A/Repos/Koolaine/experiments/picker/picker.ipynb#X12sZmlsZQ%3D%3D?line=45'>46</a>\u001b[0m \u001b[39mif\u001b[39;00m element_at_xy:\n\u001b[0;32m     <a href='vscode-notebook-cell:/d%3A/Repos/Koolaine/experiments/picker/picker.ipynb#X12sZmlsZQ%3D%3D?line=46'>47</a>\u001b[0m     \u001b[39mprint\u001b[39m(\u001b[39mf\u001b[39m\u001b[39m\"\u001b[39m\u001b[39mElement found: \u001b[39m\u001b[39m{\u001b[39;00melement_at_xy\u001b[39m.\u001b[39mCurrentName\u001b[39m}\u001b[39;00m\u001b[39m, \u001b[39m\u001b[39m{\u001b[39;00melement_at_xy\u001b[39m.\u001b[39mCurrentClassName\u001b[39m}\u001b[39;00m\u001b[39m\"\u001b[39m)\n",
      "\u001b[1;32md:\\Repos\\Koolaine\\experiments\\picker\\picker.ipynb Cell 10\u001b[0m line \u001b[0;36m3\n\u001b[0;32m     <a href='vscode-notebook-cell:/d%3A/Repos/Koolaine/experiments/picker/picker.ipynb#X12sZmlsZQ%3D%3D?line=34'>35</a>\u001b[0m \u001b[39mdef\u001b[39;00m \u001b[39mFindElementAt\u001b[39m(x, y, root, max_depth\u001b[39m=\u001b[39m\u001b[39m0xFFFFFFFF\u001b[39m):\n\u001b[1;32m---> <a href='vscode-notebook-cell:/d%3A/Repos/Koolaine/experiments/picker/picker.ipynb#X12sZmlsZQ%3D%3D?line=35'>36</a>\u001b[0m     \u001b[39mfor\u001b[39;00m element, _ \u001b[39min\u001b[39;00m WalkTree(root, max_depth\u001b[39m=\u001b[39mmax_depth, target_x\u001b[39m=\u001b[39mx, target_y\u001b[39m=\u001b[39my):\n\u001b[0;32m     <a href='vscode-notebook-cell:/d%3A/Repos/Koolaine/experiments/picker/picker.ipynb#X12sZmlsZQ%3D%3D?line=36'>37</a>\u001b[0m         rect \u001b[39m=\u001b[39m element\u001b[39m.\u001b[39mCurrentBoundingRectangle\n\u001b[0;32m     <a href='vscode-notebook-cell:/d%3A/Repos/Koolaine/experiments/picker/picker.ipynb#X12sZmlsZQ%3D%3D?line=37'>38</a>\u001b[0m         l, t, r, b \u001b[39m=\u001b[39m rect\u001b[39m.\u001b[39mleft, rect\u001b[39m.\u001b[39mtop, rect\u001b[39m.\u001b[39mright, rect\u001b[39m.\u001b[39mbottom\n",
      "\u001b[1;32md:\\Repos\\Koolaine\\experiments\\picker\\picker.ipynb Cell 10\u001b[0m line \u001b[0;36m1\n\u001b[0;32m     <a href='vscode-notebook-cell:/d%3A/Repos/Koolaine/experiments/picker/picker.ipynb#X12sZmlsZQ%3D%3D?line=12'>13</a>\u001b[0m rect \u001b[39m=\u001b[39m lastItem\u001b[39m.\u001b[39mCurrentBoundingRectangle\n\u001b[0;32m     <a href='vscode-notebook-cell:/d%3A/Repos/Koolaine/experiments/picker/picker.ipynb#X12sZmlsZQ%3D%3D?line=13'>14</a>\u001b[0m l, t, r, b \u001b[39m=\u001b[39m rect\u001b[39m.\u001b[39mleft, rect\u001b[39m.\u001b[39mtop, rect\u001b[39m.\u001b[39mright, rect\u001b[39m.\u001b[39mbottom\n\u001b[1;32m---> <a href='vscode-notebook-cell:/d%3A/Repos/Koolaine/experiments/picker/picker.ipynb#X12sZmlsZQ%3D%3D?line=14'>15</a>\u001b[0m pbar\u001b[39m.\u001b[39;49mset_description(\u001b[39mf\u001b[39;49m\u001b[39m\"\u001b[39;49m\u001b[39mDepth: \u001b[39;49m\u001b[39m{\u001b[39;49;00mdepth\u001b[39m}\u001b[39;49;00m\u001b[39m, \u001b[39;49m\u001b[39m{\u001b[39;49;00ml\u001b[39m}\u001b[39;49;00m\u001b[39m <= \u001b[39;49m\u001b[39m{\u001b[39;49;00mtarget_x\u001b[39m}\u001b[39;49;00m\u001b[39m <= \u001b[39;49m\u001b[39m{\u001b[39;49;00mr\u001b[39m}\u001b[39;49;00m\u001b[39m and \u001b[39;49m\u001b[39m{\u001b[39;49;00mt\u001b[39m}\u001b[39;49;00m\u001b[39m <= \u001b[39;49m\u001b[39m{\u001b[39;49;00mtarget_y\u001b[39m}\u001b[39;49;00m\u001b[39m <= \u001b[39;49m\u001b[39m{\u001b[39;49;00mb\u001b[39m}\u001b[39;49;00m\u001b[39m\"\u001b[39;49m)\n\u001b[0;32m     <a href='vscode-notebook-cell:/d%3A/Repos/Koolaine/experiments/picker/picker.ipynb#X12sZmlsZQ%3D%3D?line=16'>17</a>\u001b[0m \u001b[39m# If target coordinates are provided, skip elements that don't contain them\u001b[39;00m\n\u001b[0;32m     <a href='vscode-notebook-cell:/d%3A/Repos/Koolaine/experiments/picker/picker.ipynb#X12sZmlsZQ%3D%3D?line=17'>18</a>\u001b[0m \u001b[39mif\u001b[39;00m target_x \u001b[39mis\u001b[39;00m \u001b[39mnot\u001b[39;00m \u001b[39mNone\u001b[39;00m \u001b[39mand\u001b[39;00m target_y \u001b[39mis\u001b[39;00m \u001b[39mnot\u001b[39;00m \u001b[39mNone\u001b[39;00m:\n",
      "File \u001b[1;32mc:\\Users\\TeamD\\.conda\\envs\\koolaine\\lib\\site-packages\\tqdm\\std.py:1395\u001b[0m, in \u001b[0;36mtqdm.set_description\u001b[1;34m(self, desc, refresh)\u001b[0m\n\u001b[0;32m   1393\u001b[0m \u001b[39mself\u001b[39m\u001b[39m.\u001b[39mdesc \u001b[39m=\u001b[39m desc \u001b[39m+\u001b[39m \u001b[39m'\u001b[39m\u001b[39m: \u001b[39m\u001b[39m'\u001b[39m \u001b[39mif\u001b[39;00m desc \u001b[39melse\u001b[39;00m \u001b[39m'\u001b[39m\u001b[39m'\u001b[39m\n\u001b[0;32m   1394\u001b[0m \u001b[39mif\u001b[39;00m refresh:\n\u001b[1;32m-> 1395\u001b[0m     \u001b[39mself\u001b[39;49m\u001b[39m.\u001b[39;49mrefresh()\n",
      "File \u001b[1;32mc:\\Users\\TeamD\\.conda\\envs\\koolaine\\lib\\site-packages\\tqdm\\std.py:1348\u001b[0m, in \u001b[0;36mtqdm.refresh\u001b[1;34m(self, nolock, lock_args)\u001b[0m\n\u001b[0;32m   1346\u001b[0m     \u001b[39melse\u001b[39;00m:\n\u001b[0;32m   1347\u001b[0m         \u001b[39mself\u001b[39m\u001b[39m.\u001b[39m_lock\u001b[39m.\u001b[39macquire()\n\u001b[1;32m-> 1348\u001b[0m \u001b[39mself\u001b[39;49m\u001b[39m.\u001b[39;49mdisplay()\n\u001b[0;32m   1349\u001b[0m \u001b[39mif\u001b[39;00m \u001b[39mnot\u001b[39;00m nolock:\n\u001b[0;32m   1350\u001b[0m     \u001b[39mself\u001b[39m\u001b[39m.\u001b[39m_lock\u001b[39m.\u001b[39mrelease()\n",
      "File \u001b[1;32mc:\\Users\\TeamD\\.conda\\envs\\koolaine\\lib\\site-packages\\tqdm\\std.py:1496\u001b[0m, in \u001b[0;36mtqdm.display\u001b[1;34m(self, msg, pos)\u001b[0m\n\u001b[0;32m   1494\u001b[0m \u001b[39mif\u001b[39;00m pos:\n\u001b[0;32m   1495\u001b[0m     \u001b[39mself\u001b[39m\u001b[39m.\u001b[39mmoveto(pos)\n\u001b[1;32m-> 1496\u001b[0m \u001b[39mself\u001b[39;49m\u001b[39m.\u001b[39;49msp(\u001b[39mself\u001b[39;49m\u001b[39m.\u001b[39;49m\u001b[39m__str__\u001b[39;49m() \u001b[39mif\u001b[39;49;00m msg \u001b[39mis\u001b[39;49;00m \u001b[39mNone\u001b[39;49;00m \u001b[39melse\u001b[39;49;00m msg)\n\u001b[0;32m   1497\u001b[0m \u001b[39mif\u001b[39;00m pos:\n\u001b[0;32m   1498\u001b[0m     \u001b[39mself\u001b[39m\u001b[39m.\u001b[39mmoveto(\u001b[39m-\u001b[39mpos)\n",
      "File \u001b[1;32mc:\\Users\\TeamD\\.conda\\envs\\koolaine\\lib\\site-packages\\tqdm\\std.py:462\u001b[0m, in \u001b[0;36mtqdm.status_printer.<locals>.print_status\u001b[1;34m(s)\u001b[0m\n\u001b[0;32m    460\u001b[0m \u001b[39mdef\u001b[39;00m \u001b[39mprint_status\u001b[39m(s):\n\u001b[0;32m    461\u001b[0m     len_s \u001b[39m=\u001b[39m disp_len(s)\n\u001b[1;32m--> 462\u001b[0m     fp_write(\u001b[39m'\u001b[39;49m\u001b[39m\\r\u001b[39;49;00m\u001b[39m'\u001b[39;49m \u001b[39m+\u001b[39;49m s \u001b[39m+\u001b[39;49m (\u001b[39m'\u001b[39;49m\u001b[39m \u001b[39;49m\u001b[39m'\u001b[39;49m \u001b[39m*\u001b[39;49m \u001b[39mmax\u001b[39;49m(last_len[\u001b[39m0\u001b[39;49m] \u001b[39m-\u001b[39;49m len_s, \u001b[39m0\u001b[39;49m)))\n\u001b[0;32m    463\u001b[0m     last_len[\u001b[39m0\u001b[39m] \u001b[39m=\u001b[39m len_s\n",
      "File \u001b[1;32mc:\\Users\\TeamD\\.conda\\envs\\koolaine\\lib\\site-packages\\tqdm\\std.py:455\u001b[0m, in \u001b[0;36mtqdm.status_printer.<locals>.fp_write\u001b[1;34m(s)\u001b[0m\n\u001b[0;32m    454\u001b[0m \u001b[39mdef\u001b[39;00m \u001b[39mfp_write\u001b[39m(s):\n\u001b[1;32m--> 455\u001b[0m     fp\u001b[39m.\u001b[39;49mwrite(\u001b[39mstr\u001b[39;49m(s))\n\u001b[0;32m    456\u001b[0m     fp_flush()\n",
      "File \u001b[1;32mc:\\Users\\TeamD\\.conda\\envs\\koolaine\\lib\\site-packages\\tqdm\\utils.py:195\u001b[0m, in \u001b[0;36mDisableOnWriteError.disable_on_exception.<locals>.inner\u001b[1;34m(*args, **kwargs)\u001b[0m\n\u001b[0;32m    193\u001b[0m \u001b[39mdef\u001b[39;00m \u001b[39minner\u001b[39m(\u001b[39m*\u001b[39margs, \u001b[39m*\u001b[39m\u001b[39m*\u001b[39mkwargs):\n\u001b[0;32m    194\u001b[0m     \u001b[39mtry\u001b[39;00m:\n\u001b[1;32m--> 195\u001b[0m         \u001b[39mreturn\u001b[39;00m func(\u001b[39m*\u001b[39margs, \u001b[39m*\u001b[39m\u001b[39m*\u001b[39mkwargs)\n\u001b[0;32m    196\u001b[0m     \u001b[39mexcept\u001b[39;00m \u001b[39mOSError\u001b[39;00m \u001b[39mas\u001b[39;00m e:\n\u001b[0;32m    197\u001b[0m         \u001b[39mif\u001b[39;00m e\u001b[39m.\u001b[39merrno \u001b[39m!=\u001b[39m \u001b[39m5\u001b[39m:\n",
      "File \u001b[1;32mc:\\Users\\TeamD\\.conda\\envs\\koolaine\\lib\\site-packages\\ipykernel\\iostream.py:648\u001b[0m, in \u001b[0;36mOutStream.write\u001b[1;34m(self, string)\u001b[0m\n\u001b[0;32m    646\u001b[0m         \u001b[39mself\u001b[39m\u001b[39m.\u001b[39mpub_thread\u001b[39m.\u001b[39mschedule(\u001b[39mself\u001b[39m\u001b[39m.\u001b[39m_flush)\n\u001b[0;32m    647\u001b[0m     \u001b[39melse\u001b[39;00m:\n\u001b[1;32m--> 648\u001b[0m         \u001b[39mself\u001b[39;49m\u001b[39m.\u001b[39;49m_schedule_flush()\n\u001b[0;32m    650\u001b[0m \u001b[39mreturn\u001b[39;00m \u001b[39mlen\u001b[39m(string)\n",
      "File \u001b[1;32mc:\\Users\\TeamD\\.conda\\envs\\koolaine\\lib\\site-packages\\ipykernel\\iostream.py:545\u001b[0m, in \u001b[0;36mOutStream._schedule_flush\u001b[1;34m(self)\u001b[0m\n\u001b[0;32m    542\u001b[0m \u001b[39mdef\u001b[39;00m \u001b[39m_schedule_in_thread\u001b[39m():\n\u001b[0;32m    543\u001b[0m     \u001b[39mself\u001b[39m\u001b[39m.\u001b[39m_io_loop\u001b[39m.\u001b[39mcall_later(\u001b[39mself\u001b[39m\u001b[39m.\u001b[39mflush_interval, \u001b[39mself\u001b[39m\u001b[39m.\u001b[39m_flush)\n\u001b[1;32m--> 545\u001b[0m \u001b[39mself\u001b[39;49m\u001b[39m.\u001b[39;49mpub_thread\u001b[39m.\u001b[39;49mschedule(_schedule_in_thread)\n",
      "File \u001b[1;32mc:\\Users\\TeamD\\.conda\\envs\\koolaine\\lib\\site-packages\\ipykernel\\iostream.py:251\u001b[0m, in \u001b[0;36mIOPubThread.schedule\u001b[1;34m(self, f)\u001b[0m\n\u001b[0;32m    249\u001b[0m     \u001b[39mself\u001b[39m\u001b[39m.\u001b[39m_events\u001b[39m.\u001b[39mappend(f)\n\u001b[0;32m    250\u001b[0m     \u001b[39m# wake event thread (message content is ignored)\u001b[39;00m\n\u001b[1;32m--> 251\u001b[0m     \u001b[39mself\u001b[39;49m\u001b[39m.\u001b[39;49m_event_pipe\u001b[39m.\u001b[39;49msend(\u001b[39mb\u001b[39;49m\u001b[39m\"\u001b[39;49m\u001b[39m\"\u001b[39;49m)\n\u001b[0;32m    252\u001b[0m \u001b[39melse\u001b[39;00m:\n\u001b[0;32m    253\u001b[0m     f()\n",
      "File \u001b[1;32mc:\\Users\\TeamD\\.conda\\envs\\koolaine\\lib\\site-packages\\zmq\\sugar\\socket.py:696\u001b[0m, in \u001b[0;36mSocket.send\u001b[1;34m(self, data, flags, copy, track, routing_id, group)\u001b[0m\n\u001b[0;32m    689\u001b[0m         data \u001b[39m=\u001b[39m zmq\u001b[39m.\u001b[39mFrame(\n\u001b[0;32m    690\u001b[0m             data,\n\u001b[0;32m    691\u001b[0m             track\u001b[39m=\u001b[39mtrack,\n\u001b[0;32m    692\u001b[0m             copy\u001b[39m=\u001b[39mcopy \u001b[39mor\u001b[39;00m \u001b[39mNone\u001b[39;00m,\n\u001b[0;32m    693\u001b[0m             copy_threshold\u001b[39m=\u001b[39m\u001b[39mself\u001b[39m\u001b[39m.\u001b[39mcopy_threshold,\n\u001b[0;32m    694\u001b[0m         )\n\u001b[0;32m    695\u001b[0m     data\u001b[39m.\u001b[39mgroup \u001b[39m=\u001b[39m group\n\u001b[1;32m--> 696\u001b[0m \u001b[39mreturn\u001b[39;00m \u001b[39msuper\u001b[39;49m()\u001b[39m.\u001b[39;49msend(data, flags\u001b[39m=\u001b[39;49mflags, copy\u001b[39m=\u001b[39;49mcopy, track\u001b[39m=\u001b[39;49mtrack)\n",
      "File \u001b[1;32mzmq/backend/cython/socket.pyx:742\u001b[0m, in \u001b[0;36mzmq.backend.cython.socket.Socket.send\u001b[1;34m()\u001b[0m\n",
      "File \u001b[1;32mzmq/backend/cython/socket.pyx:789\u001b[0m, in \u001b[0;36mzmq.backend.cython.socket.Socket.send\u001b[1;34m()\u001b[0m\n",
      "File \u001b[1;32mzmq/backend/cython/socket.pyx:250\u001b[0m, in \u001b[0;36mzmq.backend.cython.socket._send_copy\u001b[1;34m()\u001b[0m\n",
      "File \u001b[1;32mc:\\Users\\TeamD\\.conda\\envs\\koolaine\\lib\\site-packages\\zmq\\backend\\cython\\checkrc.pxd:13\u001b[0m, in \u001b[0;36mzmq.backend.cython.checkrc._check_rc\u001b[1;34m()\u001b[0m\n",
      "\u001b[1;31mKeyboardInterrupt\u001b[0m: "
     ]
    }
   ],
   "source": [
    "def WalkTree(top, max_depth: int = 0xFFFFFFFF, target_x=None, target_y=None):\n",
    "    if max_depth <= 0:\n",
    "        return\n",
    "    child = ViewWalker.GetFirstChildElement(top)\n",
    "    childList = [child]\n",
    "    depth = 0\n",
    "    from tqdm import tqdm\n",
    "    with tqdm() as pbar:\n",
    "        while depth >= 0:\n",
    "            pbar.update(1)\n",
    "            lastItem = childList[-1]\n",
    "            if lastItem:\n",
    "                rect = lastItem.CurrentBoundingRectangle\n",
    "                l, t, r, b = rect.left, rect.top, rect.right, rect.bottom\n",
    "                pbar.set_description(f\"Depth: {depth}, {l} <= {target_x} <= {r} and {t} <= {target_y} <= {b}\")\n",
    "                \n",
    "                # If target coordinates are provided, skip elements that don't contain them\n",
    "                if target_x is not None and target_y is not None:\n",
    "                    if not (l <= target_x <= r and t <= target_y <= b):\n",
    "                        lastItem = None  # Skip this subtree\n",
    "                        \n",
    "                if lastItem:  # If not skipped\n",
    "                    yield lastItem, depth + 1\n",
    "                    child = ViewWalker.GetNextSiblingElement(lastItem)\n",
    "                    childList[depth] = child\n",
    "                    if depth + 1 < max_depth:\n",
    "                        child = ViewWalker.GetFirstChildElement(lastItem)\n",
    "                        if child:\n",
    "                            depth += 1\n",
    "                            childList.append(child)\n",
    "            else:\n",
    "                del childList[depth]\n",
    "                depth -= 1\n",
    "\n",
    "def FindElementAt(x, y, root, max_depth=0xFFFFFFFF):\n",
    "    for element, _ in WalkTree(root, max_depth=max_depth, target_x=x, target_y=y):\n",
    "        rect = element.CurrentBoundingRectangle\n",
    "        l, t, r, b = rect.left, rect.top, rect.right, rect.bottom\n",
    "        if l <= x <= r and t <= y <= b:\n",
    "            return element\n",
    "    return None\n",
    "\n",
    "# Example usage\n",
    "target_x, target_y = 500, 500  # Replace with the coordinates you're interested in\n",
    "elem = FindElementAt(target_x, target_y, desktop)\n",
    "if elem:\n",
    "    print(f\"Element found: {elem.CurrentName}, {elem.CurrentClassName}\")\n",
    "else:\n",
    "    print(\"No element found at the given coordinates.\")\n"
   ]
  }
 ],
 "metadata": {
  "kernelspec": {
   "display_name": "sfm",
   "language": "python",
   "name": "python3"
  },
  "language_info": {
   "codemirror_mode": {
    "name": "ipython",
    "version": 3
   },
   "file_extension": ".py",
   "mimetype": "text/x-python",
   "name": "python",
   "nbconvert_exporter": "python",
   "pygments_lexer": "ipython3",
   "version": "3.10.13"
  },
  "orig_nbformat": 4
 },
 "nbformat": 4,
 "nbformat_minor": 2
}
